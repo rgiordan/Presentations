{
 "cells": [
  {
   "cell_type": "code",
   "execution_count": 1,
   "metadata": {},
   "outputs": [],
   "source": [
    "import pandas as pd\n",
    "import numpy as np\n",
    "\n",
    "import copy\n",
    "import itertools\n",
    "import os\n",
    "import re\n",
    "\n",
    "from voting_lib import \\\n",
    "    ConvertResponsesToNumericVotes, \\\n",
    "    RepairVote, \\\n",
    "    PerformRankedChoiceVoting, \\\n",
    "    RemovePolicy, \\\n",
    "    RunBordaCountVote, \\\n",
    "    POLICY_NAMES, \\\n",
    "    PrintPolicyVec, \\\n",
    "    RunMultiRoundVoting\n",
    "\n",
    "# Erroneous input (two policies ranked the same) is resolved randomly.\n",
    "# Set the seed to prevent flaky voting.\n",
    "np.random.seed(42)"
   ]
  },
  {
   "cell_type": "code",
   "execution_count": 2,
   "metadata": {},
   "outputs": [
    {
     "name": "stdout",
     "output_type": "stream",
     "text": [
      "The policies in order of votes are:\n",
      "['Policy A', 'Policy B', 'Policy C', 'Policy D']\n"
     ]
    }
   ],
   "source": [
    "print('The policies in order of votes are:')\n",
    "print(POLICY_NAMES)"
   ]
  },
  {
   "cell_type": "code",
   "execution_count": 3,
   "metadata": {},
   "outputs": [],
   "source": [
    "working_dir = '/home/rgiordan/Documents/git_repos/Presentations/CCC_covid_vote'"
   ]
  },
  {
   "cell_type": "code",
   "execution_count": 4,
   "metadata": {},
   "outputs": [],
   "source": [
    "date_string = '11-08_17_02_26'\n",
    "raw_responses = pd.read_csv(os.path.join(working_dir, \n",
    "    'Children\\'s_Community_Center_Out2022-' + date_string + '.csv'))"
   ]
  },
  {
   "cell_type": "code",
   "execution_count": 5,
   "metadata": {},
   "outputs": [],
   "source": [
    "# Compile names\n",
    "first_names = raw_responses[raw_responses.columns[1]].fillna('').to_numpy()\n",
    "last_names = raw_responses[raw_responses.columns[2]].fillna('').to_numpy()\n",
    "raw_full_names = np.array([ x + ' ' + y for x, y in zip(first_names, last_names) ])"
   ]
  },
  {
   "cell_type": "code",
   "execution_count": 6,
   "metadata": {},
   "outputs": [
    {
     "name": "stdout",
     "output_type": "stream",
     "text": [
      "There were 54 voters:\n",
      "\n",
      " Ayako Hiwasa\n",
      "Stefani Madril\n",
      "Arielle Ryden\n",
      "Jaffer Abbasi\n",
      "Joe Graves\n",
      "Chris Madril \n",
      "Matt Vander Sluis\n",
      "Emily Schlessinger\n",
      "Devaki  Nirula \n",
      "laura McCaul\n",
      "Dora Zhang\n",
      "Allie Pollak\n",
      "Lilian Zakki\n",
      "Jennifer  Oppeau\n",
      "Malcolm Waugh\n",
      "Juliana Monin\n",
      "Harriet  Blackburn \n",
      "Edna Tow\n",
      "Natanya Marks\n",
      "Frances Schaeffer\n",
      "Jennifer Nakata\n",
      "Stevie Schwartz\n",
      "ADELE SHEA\n",
      "Roya Clune\n",
      "Zach Alexander\n",
      "Meghana Gadgil\n",
      "Lara Gabato \n",
      "Sarah Chenoweth \n",
      "Theresa Keating\n",
      "Jose Aranda\n",
      "jessica thomas\n",
      "Nathaniel Wolf\n",
      "Lorian Schaeffer\n",
      "Torrey Mansur\n",
      "Jamie Greenwood\n",
      "Allyssa Adair\n",
      "Kathy Chew\n",
      "Alli Beltz\n",
      "ilyse magy\n",
      "Miriam Wolodarski Lundberg\n",
      "Mónica Henestroza\n",
      "Shaye Mckenney \n",
      "Bren Darrow\n",
      "Auddi Leos\n",
      "Ian Wulfson\n",
      "ADELE SHEA\n",
      "Jill Fox\n",
      "Dorothy  Thai\n",
      " \n",
      "Ryan Farrell\n",
      "Clare Armbruster\n",
      "Encian  Pastel \n",
      "Xanh  Văn Ginzburg \n",
      "Stephanie and Pete Guinosso\n"
     ]
    }
   ],
   "source": [
    "staff_names = [\n",
    "    'Allie Pollak',\n",
    "    'Edna Tow',\n",
    "    'Lara Gabato ',\n",
    "    'Allyssa Adair',\n",
    "    'Kathy Chew',\n",
    "    'Ryan Farrell',\n",
    "    'Malcolm Waugh',\n",
    "    'Lilian Zakki',\n",
    "    'laura McCaul',\n",
    "    'Devaki  Nirula '\n",
    "]\n",
    "\n",
    "# Eliminate some rows by full name.\n",
    "bad_names = ['Test Test']\n",
    "keep_rows = [ name not in bad_names for name in raw_full_names ] \n",
    "\n",
    "\n",
    "# Note that the board decided to keep the one parent who didn't write their\n",
    "# name rather than go through the trouble of trying to find them.\n",
    "responses = raw_responses[keep_rows]\n",
    "full_names = raw_full_names[keep_rows]\n",
    "print(f'There were {len(full_names)} voters:\\n\\n', '\\n'.join(full_names))\n"
   ]
  },
  {
   "cell_type": "code",
   "execution_count": 7,
   "metadata": {},
   "outputs": [],
   "source": [
    "# Get the indices of staff responses for separate analysis.\n",
    "staff_inds = []\n",
    "for staff_name in staff_names:\n",
    "    inds = np.argwhere(full_names == staff_name).flatten()\n",
    "    if len(inds) == 0:\n",
    "        print(f'{staff_name} not found')\n",
    "        assert(False)\n",
    "    staff_inds.append(inds[0])\n",
    "\n",
    "assert(np.all(full_names[staff_inds] == staff_names))"
   ]
  },
  {
   "cell_type": "code",
   "execution_count": 8,
   "metadata": {},
   "outputs": [],
   "source": [
    "original_votes = ConvertResponsesToNumericVotes(responses)"
   ]
  },
  {
   "cell_type": "code",
   "execution_count": 9,
   "metadata": {
    "scrolled": false
   },
   "outputs": [
    {
     "name": "stdout",
     "output_type": "stream",
     "text": [
      "\n",
      "==============================================\n",
      "\n",
      "The vote for voter 18 was repaired:\n",
      "Policy A  Policy B  Policy C  Policy D  \n",
      "3         2         2         1         \n",
      "...became...\n",
      "Policy A  Policy B  Policy C  Policy D  \n",
      "4         3         2         1         \n",
      "\n",
      "The process was as follows:\n",
      "Original vote: [3 2 2 1]\n",
      "Rank 1.  Current vote: [3 2 2 1]\n",
      "Rank 2.  Current vote: [3 2 2 1]\n",
      "Rank 2 duplicated, randomly splitting indices [1 2]\n",
      "Rank 3.  Current vote: [4 3 2 1]\n",
      "Rank 4.  Current vote: [4 3 2 1]\n",
      "Final vote:\n",
      "Policy A  Policy B  Policy C  Policy D  \n",
      "4         3         2         1         \n",
      "\n",
      "==============================================\n",
      "\n",
      "The vote for voter 50 was repaired:\n",
      "Policy A  Policy B  Policy C  Policy D  \n",
      "3         4         3         1         \n",
      "...became...\n",
      "Policy A  Policy B  Policy C  Policy D  \n",
      "2         4         3         1         \n",
      "\n",
      "The process was as follows:\n",
      "Original vote: [3 4 3 1]\n",
      "Rank 1.  Current vote: [3 4 3 1]\n",
      "Rank 2.  Current vote: [3 4 3 1]\n",
      "Rank 2 missing, decrementing other votes\n",
      "Rank 2.  Current vote: [2 3 2 1]\n",
      "Rank 2 duplicated, randomly splitting indices [0 2]\n",
      "Rank 3.  Current vote: [3 4 2 1]\n",
      "Rank 4.  Current vote: [3 4 2 1]\n",
      "Final vote:\n",
      "Policy A  Policy B  Policy C  Policy D  \n",
      "3         4         2         1         \n"
     ]
    }
   ],
   "source": [
    "# Fix malformed votes.\n",
    "votes = copy.copy(original_votes)\n",
    "for voter in range(votes.shape[1]):\n",
    "    votes[:, voter] = RepairVote(votes[:, voter])\n",
    "    \n",
    "# Report on any votes that were modified.\n",
    "for voter in range(votes.shape[1]):\n",
    "    if np.any(votes[:, voter] != original_votes[:, voter]):\n",
    "        print('\\n==============================================')\n",
    "        print(f'\\nThe vote for voter {voter} was repaired:')\n",
    "        PrintPolicyVec(original_votes[:, voter]) \n",
    "        print('...became...')\n",
    "        PrintPolicyVec(votes[:, voter]) \n",
    "        print('\\nThe process was as follows:')\n",
    "        RepairVote(original_votes[:, voter], verbose=True)"
   ]
  },
  {
   "cell_type": "code",
   "execution_count": 10,
   "metadata": {
    "scrolled": false
   },
   "outputs": [
    {
     "name": "stdout",
     "output_type": "stream",
     "text": [
      "Results for the whole school:\n"
     ]
    },
    {
     "ename": "NameError",
     "evalue": "name 'RunMultiRoundVoting' is not defined",
     "output_type": "error",
     "traceback": [
      "\u001b[0;31m---------------------------------------------------------------------------\u001b[0m",
      "\u001b[0;31mNameError\u001b[0m                                 Traceback (most recent call last)",
      "\u001b[0;32m<ipython-input-10-183e5340f11b>\u001b[0m in \u001b[0;36m<module>\u001b[0;34m\u001b[0m\n\u001b[1;32m      1\u001b[0m \u001b[0mprint\u001b[0m\u001b[0;34m(\u001b[0m\u001b[0;34m'Results for the whole school:'\u001b[0m\u001b[0;34m)\u001b[0m\u001b[0;34m\u001b[0m\u001b[0;34m\u001b[0m\u001b[0m\n\u001b[1;32m      2\u001b[0m \u001b[0;34m\u001b[0m\u001b[0m\n\u001b[0;32m----> 3\u001b[0;31m \u001b[0mRunMultiRoundVoting\u001b[0m\u001b[0;34m(\u001b[0m\u001b[0mvotes\u001b[0m\u001b[0;34m)\u001b[0m\u001b[0;34m\u001b[0m\u001b[0;34m\u001b[0m\u001b[0m\n\u001b[0m",
      "\u001b[0;31mNameError\u001b[0m: name 'RunMultiRoundVoting' is not defined"
     ]
    }
   ],
   "source": [
    "print('Results for the whole school:')\n",
    "\n",
    "RunMultiRoundVoting(votes)"
   ]
  },
  {
   "cell_type": "code",
   "execution_count": null,
   "metadata": {},
   "outputs": [],
   "source": []
  },
  {
   "cell_type": "code",
   "execution_count": null,
   "metadata": {},
   "outputs": [],
   "source": [
    "print('We agreed to instant runoff voting, not Borda count.')\n",
    "\n",
    "print('However, in case you are curious, the Borda count results is as follows (lower is better):')\n",
    "borda_result = RunBordaCountVote(votes)\n",
    "PrintPolicyVec(borda_result)\n",
    "\n"
   ]
  },
  {
   "cell_type": "code",
   "execution_count": null,
   "metadata": {},
   "outputs": [],
   "source": [
    "# Run the auction separately for the staff who voted\n",
    "\n",
    "print('Results only with staff ', ', '.join(staff_names))\n",
    "\n",
    "RunMultiRoundVoting(votes[:, staff_inds])\n"
   ]
  },
  {
   "cell_type": "code",
   "execution_count": null,
   "metadata": {},
   "outputs": [],
   "source": [
    "RunBordaCountVote(votes) # Lowest wins"
   ]
  },
  {
   "cell_type": "code",
   "execution_count": null,
   "metadata": {},
   "outputs": [],
   "source": [
    "# Compile which polcies are indicated as unacceptable.\n",
    "#print(responses.columns[7])\n",
    "unacceptables = responses[responses.columns[7]].fillna('').to_numpy()\n",
    "\n",
    "unacceptable_inds = []\n",
    "for policy in [ 'A', 'B', 'C', 'D' ]:\n",
    "    unacceptable_bools = [ re.match(f'Policy {policy}', v) is not None for v in unacceptables ]\n",
    "    unacceptable_inds.append(np.argwhere(unacceptable_bools).flatten())\n",
    "\n",
    "print('Count of unacceptables: ')\n",
    "PrintPolicyVec([ len(v) for v in unacceptable_inds ])\n",
    "\n"
   ]
  },
  {
   "cell_type": "code",
   "execution_count": null,
   "metadata": {
    "scrolled": false
   },
   "outputs": [],
   "source": [
    "print(responses.columns[8])\n",
    "unacceptable_text = responses[responses.columns[8]].fillna('').to_numpy()\n",
    "for policy_ind in range(4):\n",
    "    print(f'\\n======================================================\\n' + \n",
    "          f'Responses for {POLICY_NAMES[policy_ind]} unacceptable:')\n",
    "    for voter_ind in unacceptable_inds[policy_ind]:\n",
    "        print(f'\\n > {full_names[voter_ind]} (index {voter_ind})')\n",
    "        print(unacceptable_text[voter_ind])\n",
    "\n",
    "print(f'\\n======================================================\\n' + \n",
    "f'Text entered with no policy marked unacceptable')\n",
    "\n",
    "# Print text for folks who did not indicate that anything was unacceptable\n",
    "for voter_ind in np.setdiff1d(np.arange(votes.shape[1]), np.hstack(unacceptable_inds)):\n",
    "    if unacceptable_text[voter_ind] != '':\n",
    "        print(f'\\n > {full_names[voter_ind]} (index {voter_ind})')\n",
    "        print(unacceptable_text[voter_ind])"
   ]
  },
  {
   "cell_type": "code",
   "execution_count": null,
   "metadata": {
    "scrolled": false
   },
   "outputs": [],
   "source": [
    "# Display other text\n",
    "print(responses.columns[9])\n",
    "\n",
    "comment_text = responses[responses.columns[9]].fillna('').to_numpy()\n",
    "\n",
    "for voter_ind in range(votes.shape[1]):\n",
    "    if comment_text[voter_ind] != '':\n",
    "        print(f'\\n > {full_names[voter_ind]} (index {voter_ind})')\n",
    "        print(comment_text[voter_ind])"
   ]
  }
 ],
 "metadata": {
  "kernelspec": {
   "display_name": "Python 3",
   "language": "python",
   "name": "python3"
  },
  "language_info": {
   "codemirror_mode": {
    "name": "ipython",
    "version": 3
   },
   "file_extension": ".py",
   "mimetype": "text/x-python",
   "name": "python",
   "nbconvert_exporter": "python",
   "pygments_lexer": "ipython3",
   "version": "3.8.10"
  }
 },
 "nbformat": 4,
 "nbformat_minor": 4
}
