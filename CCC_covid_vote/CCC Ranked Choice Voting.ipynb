{
 "cells": [
  {
   "cell_type": "code",
   "execution_count": 1,
   "metadata": {},
   "outputs": [],
   "source": [
    "import pandas as pd\n",
    "import numpy as np\n",
    "\n",
    "import copy\n",
    "import itertools\n",
    "import os\n",
    "import re\n",
    "\n",
    "# Erroneous input (two policies ranked the same) is resolved randomly.\n",
    "# Set the seed to prevent flaky voting.\n",
    "np.random.seed(42)"
   ]
  },
  {
   "cell_type": "code",
   "execution_count": 2,
   "metadata": {},
   "outputs": [],
   "source": [
    "working_dir = '/home/rgiordan/Documents/git_repos/Presentations/CCC_covid_vote'"
   ]
  },
  {
   "cell_type": "code",
   "execution_count": 3,
   "metadata": {},
   "outputs": [],
   "source": [
    "responses = pd.read_csv(os.path.join(working_dir, \n",
    "    'Children\\'s_Community_Center_Out2022-11-07_13_38_27.csv'))"
   ]
  },
  {
   "cell_type": "code",
   "execution_count": 38,
   "metadata": {},
   "outputs": [
    {
     "name": "stdout",
     "output_type": "stream",
     "text": [
      "Please indicate if any of the above policies are unacceptable to your family.  Though this will not be formally part of the non-binding ranked choice vote, the board will take these responses into consideration.  The board is particularly interested if your family has distinctive needs with regard to COVID or masking.\n",
      "[4, 3, 0, 1]\n"
     ]
    }
   ],
   "source": [
    "# Compile which polcies are indicated as unacceptable.\n",
    "print(responses.columns[7])\n",
    "unacceptables = responses[responses.columns[7]].fillna('').to_numpy()\n",
    "\n",
    "num_unacceptable = []\n",
    "for policy in [ 'A', 'B', 'C', 'D' ]:\n",
    "    num_unacceptable.append(\n",
    "        np.sum([ re.match(f'Policy {policy}', v) is not None for v in unacceptables ])\n",
    "    )\n",
    "print(num_unacceptable)"
   ]
  },
  {
   "cell_type": "code",
   "execution_count": 4,
   "metadata": {},
   "outputs": [],
   "source": [
    "# Select the columns that compile the votes\n",
    "\n",
    "a_col = responses.columns[3]\n",
    "b_col = responses.columns[4]\n",
    "c_col = responses.columns[5]\n",
    "d_col = responses.columns[6]\n",
    "# print('\\n'.join([a_col, b_col, c_col, d_col]))\n",
    "\n",
    "# Assert that I have selected the columns correctly\n",
    "assert(re.search(\"Policy A\", a_col))\n",
    "assert(re.search(\"Policy B\", b_col))\n",
    "assert(re.search(\"Policy C\", c_col))\n",
    "assert(re.search(\"Policy D\", d_col))"
   ]
  },
  {
   "cell_type": "code",
   "execution_count": 12,
   "metadata": {},
   "outputs": [
    {
     "name": "stdout",
     "output_type": "stream",
     "text": [
      "[[3 3 3 4 3 3 4 4 4 2 4 4 4 0 4 3 4 4 4 4 2 4 4 3 2 4 3 2]\n",
      " [2 2 4 3 4 1 3 1 1 3 3 3 3 0 2 4 3 3 2 1 1 3 2 4 1 3 4 3]\n",
      " [1 1 2 2 2 2 2 2 2 1 2 2 2 2 1 2 2 2 3 2 3 2 3 3 3 2 2 1]\n",
      " [4 4 1 1 1 4 1 3 3 4 1 1 1 1 3 1 1 1 1 3 4 1 1 1 4 1 1 4]]\n",
      "There were 28 voters.\n"
     ]
    }
   ],
   "source": [
    "# Load the CSV and convert the votes to numeric ranks.\n",
    "\n",
    "def ConvertToNumericVote(pd_col):\n",
    "    # Empty rows (not voted on) are storted as nan, not strings.   Replace them \n",
    "    # with zeros so we can handle them gracefully in numpy.\n",
    "    vote_str = pd_col.fillna('0').to_numpy()\n",
    "    \n",
    "    # Keep only the numbers from the response text.\n",
    "    vote_str = np.array([ re.sub(r'[^0-9]', '', v) for v in vote_str ])\n",
    "    \n",
    "    return vote_str.astype('int')\n",
    "\n",
    "original_votes = np.vstack([\n",
    "    ConvertToNumericVote(responses[col]) for col in [ a_col, b_col, c_col, d_col ]\n",
    "])\n",
    "print(original_votes)\n",
    "print(f'There were {original_votes.shape[1]} voters.')\n",
    "\n",
    "# Assert that the A vote is the first row as expected as a sanity check.\n",
    "assert(np.all(ConvertToNumericVote(responses[a_col]) == original_votes[0, :]))"
   ]
  },
  {
   "cell_type": "code",
   "execution_count": 6,
   "metadata": {},
   "outputs": [],
   "source": [
    "def AssertEquivalentVotes(old_vote, new_vote, exclude=np.array([])):\n",
    "    # Assert that the strict pairwise ranks of the new_vote matches the old_vote,\n",
    "    # excluding the indices in exclude.  This makes sure that I drop votes\n",
    "    # or modify ill-formed votes correctly.\n",
    "    \n",
    "    # Though computatoinally wasteful, I'll use this in place of unit tests when\n",
    "    # modifying the votes for ranked choice and resolving errors.\n",
    "    \n",
    "    assert(len(old_vote) == len(new_vote))\n",
    "\n",
    "    num_policies = len(old_vote)\n",
    "    if (len(exclude) > 0):\n",
    "        assert(np.max(exclude) < num_policies)\n",
    "        assert(np.min(exclude) >= 0)\n",
    "    \n",
    "    policies = np.setdiff1d(np.arange(num_policies), exclude)\n",
    "    \n",
    "    for i, j in itertools.product(policies, policies):\n",
    "        if old_vote[i] < old_vote[j]:\n",
    "            assert(new_vote[i] < new_vote[j])\n"
   ]
  },
  {
   "cell_type": "code",
   "execution_count": 7,
   "metadata": {
    "scrolled": false
   },
   "outputs": [],
   "source": [
    "#vote = votes[:, 0]\n",
    "vote = np.array([0, 2, 2, 4])\n",
    "\n",
    "def RepairVote(old_vote, verbose=False):\n",
    "    # Check for valid input and correct voting errors, following the office hours document.\n",
    "    # Returns a new set of rankings which is in order and has no gaps or duplicates.\n",
    "    # For a description of what's going on, set verbose=True.\n",
    "    \n",
    "    def VerbosePrint(s):\n",
    "        if verbose:\n",
    "            print(s)\n",
    "\n",
    "    vote = copy.copy(old_vote)\n",
    "    VerbosePrint(f'Original vote: {old_vote}')\n",
    "    num_votes = sum(vote > 0)\n",
    "    rank = 1\n",
    "    while rank <= num_votes:\n",
    "        VerbosePrint(f'Rank {rank}.  Current vote: {vote}')\n",
    "        if not np.any(vote == rank):\n",
    "            # There is no policy with this rank; decrement the other votes and try again.\n",
    "            VerbosePrint(f'Rank {rank} missing, decrementing other votes')\n",
    "            dec_inds = np.logical_and(vote > rank, vote > 0) \n",
    "            vote[dec_inds] = vote[dec_inds] - 1\n",
    "        else:\n",
    "            rank_inds = np.argwhere(vote == rank).flatten()\n",
    "            if len(rank_inds) > 1:\n",
    "                # This rank was duplicated.  Randomly split up this rank among the\n",
    "                # policies.\n",
    "                VerbosePrint(f'Rank {rank} duplicated, randomly splitting indices {rank_inds}')\n",
    "\n",
    "                num_dups = len(rank_inds)\n",
    "                new_ranks = np.random.choice(num_dups, num_dups, replace=False) + rank\n",
    "\n",
    "                # Increment other votes to make room for num_dups - 1 extra votes\n",
    "                dec_inds = np.logical_and(vote > rank, vote > 0) \n",
    "                vote[dec_inds] = vote[dec_inds] + num_dups - 1\n",
    "                vote[rank_inds] = new_ranks\n",
    "                rank += num_dups - 1\n",
    "            else:\n",
    "                # This rank is okay, go to the next one.\n",
    "                rank += 1\n",
    "\n",
    "    VerbosePrint(f'Final vote: {vote}')\n",
    "    AssertEquivalentVotes(old_vote, vote)\n",
    "    return vote\n",
    "\n",
    "votes = copy.copy(original_votes)\n",
    "for voter in range(votes.shape[1]):\n",
    "    votes[:, voter] = RepairVote(votes[:, voter])"
   ]
  },
  {
   "cell_type": "code",
   "execution_count": 8,
   "metadata": {},
   "outputs": [
    {
     "name": "stdout",
     "output_type": "stream",
     "text": [
      "\n",
      "The vote for voter 23 was repaired:\n",
      "[3 4 3 1] -> [3 4 2 1]\n",
      "The process was as follows:\n",
      "Original vote: [3 4 3 1]\n",
      "Rank 1.  Current vote: [3 4 3 1]\n",
      "Rank 2.  Current vote: [3 4 3 1]\n",
      "Rank 2 missing, decrementing other votes\n",
      "Rank 2.  Current vote: [2 3 2 1]\n",
      "Rank 2 duplicated, randomly splitting indices [0 2]\n",
      "Rank 3.  Current vote: [2 4 3 1]\n",
      "Rank 4.  Current vote: [2 4 3 1]\n",
      "Final vote: [2 4 3 1]\n"
     ]
    }
   ],
   "source": [
    "# Report on any votes that were modified.\n",
    "for voter in range(votes.shape[1]):\n",
    "    if np.any(votes[:, voter] != original_votes[:, voter]):\n",
    "        print(f'\\nThe vote for voter {voter} was repaired:')\n",
    "        print(original_votes[:, voter], '->', votes[:, voter])\n",
    "        print('The process was as follows:')\n",
    "        RepairVote(original_votes[:, voter], verbose=True)"
   ]
  },
  {
   "cell_type": "code",
   "execution_count": 13,
   "metadata": {},
   "outputs": [],
   "source": [
    "def FindWinnerAndLoser(votes, verbose=False):\n",
    "    # Identify a winner (if there is one) and the losers among the votes array.\n",
    "    # Return (winner, loser), where both may be arrays in the case of a tie.\n",
    "\n",
    "    def VerbosePrint(s):\n",
    "        if verbose:\n",
    "            print(s)\n",
    "\n",
    "    num_voters = votes.shape[1]\n",
    "    num_votes = np.sum(votes == 1)\n",
    "    assert(num_votes <= num_voters)\n",
    "    if num_votes != num_voters:\n",
    "        VerbosePrint(f'This many voters did not vote this round: {num_voters - num_votes}')\n",
    "\n",
    "    # If we drop a proposal that has no votes, it cannot possibly change the outcome.\n",
    "    # Drop the proposal that has the fewest first choice votes and has at least some\n",
    "    # votes.  Note that this is necessary because we are representing removing a vote\n",
    "    # as non-voting.\n",
    "    has_votes = np.sum(votes > 1, axis=1) > 0\n",
    "    vote_count = np.sum(votes == 1, axis=1)\n",
    "    VerbosePrint(f'Vote count: {vote_count}')\n",
    "    min_count = np.min(vote_count[has_votes])\n",
    "    loser = np.argwhere(\n",
    "        np.logical_and(vote_count == min_count, has_votes)).flatten()\n",
    "\n",
    "    if len(loser) > 1:\n",
    "        VerbosePrint(f'There was a tie among losers: {loser}')\n",
    "    vote_prop = vote_count / num_votes\n",
    "    VerbosePrint(f'The proportion of first votes was {vote_prop}')\n",
    "    majority = vote_prop >= 0.5\n",
    "    if np.any(majority):\n",
    "        winner = np.argwhere(majority).flatten()\n",
    "        if (len(winner) > 1):\n",
    "            VerbosePrint(f'There was a tie among winners: {winner}.')\n",
    "        else:\n",
    "            VerbosePrint(f'The winner was {winner}')\n",
    "        return (winner, loser)\n",
    "    else:\n",
    "        VerbosePrint('There was no majority')\n",
    "        return ([], loser)\n",
    "    \n",
    "\n",
    "def RemovePolicy(votes, drop_index):\n",
    "    # Drop a policy from consideration, and decrement other so that they remain\n",
    "    # valid votes.  The dropped vote will be ranked zero, as if the voter did\n",
    "    # not vote on it in the survey.\n",
    "\n",
    "    new_votes = copy.copy(votes)\n",
    "    increment_cols = np.argwhere(new_votes[drop_index, :] == 1).flatten()\n",
    "    new_votes[:, increment_cols] = votes[:, increment_cols] - 1\n",
    "    new_votes[new_votes < 0] = 0\n",
    "    new_votes[drop_index, :] = 0\n",
    "    \n",
    "    # Sanity check that we have not changed any preferences.\n",
    "    for voter in range(votes.shape[1]):\n",
    "        AssertEquivalentVotes(votes[:, voter], new_votes[:, voter], exclude=[drop_index])\n",
    "\n",
    "    return new_votes\n"
   ]
  },
  {
   "cell_type": "code",
   "execution_count": 14,
   "metadata": {},
   "outputs": [
    {
     "name": "stdout",
     "output_type": "stream",
     "text": [
      "[[3 3 3 4 3 3 4 4 4 2 4 4 4 0 4 3 4 4 4 4 2 4 4 3 2 4 3 2]\n",
      " [2 2 4 3 4 1 3 1 1 3 3 3 3 0 2 4 3 3 2 1 1 3 2 4 1 3 4 3]\n",
      " [1 1 2 2 2 2 2 2 2 1 2 2 2 2 1 2 2 2 3 2 3 2 3 2 3 2 2 1]\n",
      " [4 4 1 1 1 4 1 3 3 4 1 1 1 1 3 1 1 1 1 3 4 1 1 1 4 1 1 4]]\n",
      "\n",
      "Round 0:\n",
      "Checking for a majority.\n",
      "Vote count: [ 0  6  5 17]\n",
      "The proportion of first votes was [0.         0.21428571 0.17857143 0.60714286]\n",
      "The winner was [3]\n",
      "The winner is [3]\n",
      "[[3 3 2 3 2 3 3 4 4 2 3 3 3 0 4 2 3 3 3 4 2 3 3 2 2 3 2 2]\n",
      " [2 2 3 2 3 1 2 1 1 3 2 2 2 0 2 3 2 2 1 1 1 2 1 3 1 2 3 3]\n",
      " [1 1 1 1 1 2 1 2 2 1 1 1 1 1 1 1 1 1 2 2 3 1 2 1 3 1 1 1]\n",
      " [0 0 0 0 0 0 0 0 0 0 0 0 0 0 0 0 0 0 0 0 0 0 0 0 0 0 0 0]]\n",
      "\n",
      "Round 1:\n",
      "Checking for a majority.\n",
      "Vote count: [ 0  8 20  0]\n",
      "The proportion of first votes was [0.         0.28571429 0.71428571 0.        ]\n",
      "The winner was [2]\n",
      "The winner is [2]\n",
      "[[2 2 1 2 1 3 2 4 4 1 2 2 2 0 3 1 2 2 3 4 2 2 3 1 2 2 1 1]\n",
      " [1 1 2 1 2 1 1 1 1 2 1 1 1 0 1 2 1 1 1 1 1 1 1 2 1 1 2 2]\n",
      " [0 0 0 0 0 0 0 0 0 0 0 0 0 0 0 0 0 0 0 0 0 0 0 0 0 0 0 0]\n",
      " [0 0 0 0 0 0 0 0 0 0 0 0 0 0 0 0 0 0 0 0 0 0 0 0 0 0 0 0]]\n",
      "\n",
      "Round 2:\n",
      "Checking for a majority.\n",
      "This many voters did not vote this round: 1\n",
      "Vote count: [ 7 20  0  0]\n",
      "The proportion of first votes was [0.25925926 0.74074074 0.         0.        ]\n",
      "The winner was [1]\n",
      "The winner is [1]\n",
      "[[1 1 1 1 1 2 1 3 3 1 1 1 1 0 2 1 1 1 2 3 1 1 2 1 1 1 1 1]\n",
      " [0 0 0 0 0 0 0 0 0 0 0 0 0 0 0 0 0 0 0 0 0 0 0 0 0 0 0 0]\n",
      " [0 0 0 0 0 0 0 0 0 0 0 0 0 0 0 0 0 0 0 0 0 0 0 0 0 0 0 0]\n",
      " [0 0 0 0 0 0 0 0 0 0 0 0 0 0 0 0 0 0 0 0 0 0 0 0 0 0 0 0]]\n",
      "\n",
      "Round 3:\n",
      "Checking for a majority.\n",
      "This many voters did not vote this round: 8\n",
      "Vote count: [20  0  0  0]\n",
      "The proportion of first votes was [1. 0. 0. 0.]\n",
      "The winner was [0]\n",
      "The winner is [0]\n",
      "[array([3]), array([2]), array([1]), array([0])]\n"
     ]
    }
   ],
   "source": [
    "def PerformRankedChoiceVoting(votes, verbose=False):\n",
    "    # Perform ranked-choice voting on an array of votes.\n",
    "\n",
    "    done = False\n",
    "    votes_copy = copy.copy(votes)\n",
    "    while not done:\n",
    "        print('Checking for a majority.')\n",
    "        winner, loser = FindWinnerAndLoser(votes_copy, verbose=verbose)\n",
    "\n",
    "        if len(winner) > 0:\n",
    "            print(f'The winner is {winner}')\n",
    "            done = True\n",
    "        else:\n",
    "            if len(loser) > 1:\n",
    "                print(f'Randomly dropping a loser from {loser}')\n",
    "                loser_ind = np.random.choice(len(loser), 1)\n",
    "                loser = np.array([ loser[loser_ind] ])\n",
    "            print(f'Removing {loser[0]}')\n",
    "            votes_copy = RemovePolicy(votes, loser[0])\n",
    "        \n",
    "    return winner\n",
    "\n",
    "winners = []\n",
    "\n",
    "votes_copy = copy.copy(votes)\n",
    "for round_ind in range(4):\n",
    "    print(votes_copy)\n",
    "    print(f'\\nRound {round_ind}:')\n",
    "    round_winners = PerformRankedChoiceVoting(votes_copy, verbose=True) \n",
    "    winners.append(round_winners)\n",
    "    for winner in round_winners:\n",
    "        votes_copy = RemovePolicy(votes_copy, winner)\n",
    "        \n",
    "print(winners)"
   ]
  },
  {
   "cell_type": "code",
   "execution_count": 18,
   "metadata": {},
   "outputs": [
    {
     "data": {
      "text/plain": [
       "array([92, 69, 55, 57])"
      ]
     },
     "execution_count": 18,
     "metadata": {},
     "output_type": "execute_result"
    }
   ],
   "source": [
    "# The Borda count is a one-liner, haha.\n",
    "# The lowest wins.  Note that missing votes are treated badly here,\n",
    "# as a missing vote gives a lower vote than is possible otherwise.\n",
    "# A real Borda count should not allow missing votes.\n",
    "np.sum(votes, axis=1)"
   ]
  }
 ],
 "metadata": {
  "kernelspec": {
   "display_name": "Python 3",
   "language": "python",
   "name": "python3"
  },
  "language_info": {
   "codemirror_mode": {
    "name": "ipython",
    "version": 3
   },
   "file_extension": ".py",
   "mimetype": "text/x-python",
   "name": "python",
   "nbconvert_exporter": "python",
   "pygments_lexer": "ipython3",
   "version": "3.8.10"
  }
 },
 "nbformat": 4,
 "nbformat_minor": 4
}
