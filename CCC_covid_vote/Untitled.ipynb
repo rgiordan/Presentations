{
 "cells": [
  {
   "cell_type": "code",
   "execution_count": 245,
   "metadata": {},
   "outputs": [],
   "source": [
    "import pandas as pd\n",
    "import numpy as np\n",
    "\n",
    "import copy\n",
    "import itertools\n",
    "import os\n",
    "import re\n",
    "\n",
    "# Erroneous input (two policies ranked the same) is resolved randomly.\n",
    "# Set the seed to prevent flaky voting.\n",
    "np.random.seed(42)"
   ]
  },
  {
   "cell_type": "code",
   "execution_count": 3,
   "metadata": {},
   "outputs": [],
   "source": [
    "working_dir = '/home/rgiordan/Documents/git_repos/Presentations/CCC_covid_vote'"
   ]
  },
  {
   "cell_type": "code",
   "execution_count": 7,
   "metadata": {},
   "outputs": [],
   "source": [
    "responses = pd.read_csv(os.path.join(working_dir, 'example.csv'))"
   ]
  },
  {
   "cell_type": "code",
   "execution_count": 112,
   "metadata": {},
   "outputs": [],
   "source": [
    "# Select the columns that compile the votes\n",
    "\n",
    "#print(responses.columns)\n",
    "a_col = responses.columns[3]\n",
    "b_col = responses.columns[4]\n",
    "c_col = responses.columns[5]\n",
    "d_col = responses.columns[6]\n",
    "# print('\\n'.join([a_col, b_col, c_col, d_col]))\n",
    "\n",
    "# Assert that I have selected the columns correctly\n",
    "assert(re.search(\"Policy A\", a_col))\n",
    "assert(re.search(\"Policy B\", b_col))\n",
    "assert(re.search(\"Policy C\", c_col))\n",
    "assert(re.search(\"Policy D\", d_col))"
   ]
  },
  {
   "cell_type": "code",
   "execution_count": 197,
   "metadata": {},
   "outputs": [
    {
     "name": "stdout",
     "output_type": "stream",
     "text": [
      "[[2 4 4 4 0 4 3 4 4 4 4 2 4 4 3 2 4 3 2]\n",
      " [3 3 3 3 0 2 4 3 3 2 1 1 3 2 4 1 3 4 3]\n",
      " [1 2 2 2 2 1 2 2 2 3 2 3 2 3 3 3 2 2 1]\n",
      " [4 1 1 1 1 3 1 1 1 1 3 4 1 1 1 4 1 1 4]]\n"
     ]
    }
   ],
   "source": [
    "# Load the CSV and convert the votes to numeric ranks.\n",
    "\n",
    "def ConvertToNumericVote(pd_col):\n",
    "    # Empty rows (not voted on) are storted as nan, not strings.\n",
    "    vote_str = pd_col.fillna('0').to_numpy()\n",
    "    \n",
    "    # Keep only the numbers.\n",
    "    vote_str = np.array([ re.sub(r'[^0-9]', '', v) for v in vote_str ])\n",
    "    \n",
    "    return vote_str.astype('int')\n",
    "\n",
    "votes = np.vstack([\n",
    "    ConvertToNumericVote(responses[col]) for col in [ a_col, b_col, c_col, d_col ]\n",
    "])\n",
    "print(votes)\n",
    "\n",
    "# Assert that the A vote is the first row as expected.\n",
    "assert(np.all(ConvertToNumericVote(responses[a_col]) == votes[0, :]))"
   ]
  },
  {
   "cell_type": "code",
   "execution_count": 260,
   "metadata": {},
   "outputs": [],
   "source": [
    "def AssertEquivalentVotes(old_vote, new_vote, exclude=np.array([])):\n",
    "    # Assert that the strict pairwise ranks of the new_vote matches the old_vote,\n",
    "    # excluding the indices in exclude.\n",
    "    \n",
    "    # Though computatoinally wasteful, I'll use this in place of unit tests when\n",
    "    # modifying the votes for ranked choice and resolving errors.\n",
    "    \n",
    "    assert(len(old_vote) == len(new_vote))\n",
    "\n",
    "    num_policies = len(old_vote)\n",
    "    if (len(exclude) > 0):\n",
    "        assert(np.max(exclude) < num_policies)\n",
    "        assert(np.min(exclude) >= 0)\n",
    "    \n",
    "    policies = np.setdiff1d(np.arange(num_policies), exclude)\n",
    "    \n",
    "    for i, j in itertools.product(policies, policies):\n",
    "        if old_vote[i] < old_vote[j]:\n",
    "            assert(new_vote[i] < new_vote[j])\n"
   ]
  },
  {
   "cell_type": "code",
   "execution_count": 261,
   "metadata": {
    "scrolled": false
   },
   "outputs": [
    {
     "name": "stdout",
     "output_type": "stream",
     "text": [
      "[0 2 2 4]\n",
      "[0 2 1 3]\n"
     ]
    }
   ],
   "source": [
    "# Check for valid input and correct voting errors, following the office hours document.\n",
    "#vote = votes[:, 0]\n",
    "vote = np.array([0, 2, 2, 4])\n",
    "\n",
    "def RepairVote(old_vote):\n",
    "    vote = copy.copy(old_vote)\n",
    "    inds = vote > 0\n",
    "    num_votes = sum(inds)\n",
    "    #print(num_votes)\n",
    "    rank = 1\n",
    "    while rank <= num_votes:\n",
    "        #print(f'Rank {rank}')\n",
    "        if not np.any(vote == rank):\n",
    "            # There is nothing with this rank; decrement the other votes and try again.\n",
    "            #print('Decrementing')\n",
    "            vote[inds] = vote[inds] - 1\n",
    "        else:\n",
    "            rank_inds = np.argwhere(vote == rank).flatten()\n",
    "            if len(rank_inds) > 1:\n",
    "                # This rank was duplicated.  Randomly split up this rank among the\n",
    "                # policies.\n",
    "                #print(f'Duplicating ({rank_inds})')\n",
    "\n",
    "                num_dups = len(rank_inds)\n",
    "                new_ranks = np.random.choice(num_dups, num_dups, replace=False) + rank\n",
    "\n",
    "                # Decrement other votes to make room\n",
    "                dec_inds = np.logical_and(vote < rank + num_dups - 1, inds) \n",
    "                vote[dec_inds] = vote[dec_inds] - (num_dups - 1)\n",
    "                vote[rank_inds] = new_ranks\n",
    "                rank += num_dups\n",
    "            else:\n",
    "                # This rank is okay, go to the next one.\n",
    "                rank += 1\n",
    "\n",
    "    AssertEquivalentVotes(old_vote, vote)\n",
    "    return vote\n",
    "\n",
    "print(vote)\n",
    "print(RepairVote(vote))"
   ]
  },
  {
   "cell_type": "code",
   "execution_count": 262,
   "metadata": {},
   "outputs": [
    {
     "name": "stdout",
     "output_type": "stream",
     "text": [
      "\n",
      "Original:\n",
      "[3]\n",
      "1\n",
      "\n",
      "Three stripped:\n",
      "Some did not vote.  1\n",
      "[2]\n",
      "1\n"
     ]
    },
    {
     "data": {
      "text/plain": [
       "(array([2]), 0)"
      ]
     },
     "execution_count": 262,
     "metadata": {},
     "output_type": "execute_result"
    }
   ],
   "source": [
    "def FindWinnerAndLoser(votes):\n",
    "    num_voters = votes.shape[1]\n",
    "    num_votes = np.sum(votes == 1)\n",
    "    assert(num_votes <= num_voters)\n",
    "    if num_votes != num_voters:\n",
    "        print('Some did not vote. ', num_voters - num_votes)\n",
    "    vote_count = np.sum(votes == 1, axis=1)\n",
    "    loser = np.argmin(vote_count)\n",
    "    majority = vote_count / num_votes >= 0.5\n",
    "    if np.any(majority):\n",
    "        winner = np.argwhere(majority)[0]\n",
    "        print(winner)\n",
    "        if (len(winner) > 1):\n",
    "            print('There was a tie')\n",
    "        print(len(winner))\n",
    "        return (winner, loser)\n",
    "    else:\n",
    "        print('No majority')\n",
    "        return (-1, loser)\n",
    "    \n",
    "def RemovePolicy(votes, drop_index):\n",
    "    new_votes = copy.copy(votes)\n",
    "    drop_index = 3\n",
    "    increment_cols = np.argwhere(new_votes[drop_index, :] == 1).flatten()\n",
    "    new_votes[:, increment_cols] = votes[:, increment_cols] - 1\n",
    "    new_votes[new_votes < 0] = 0\n",
    "    new_votes[drop_index, :] = 0\n",
    "    \n",
    "    for voter in range(votes.shape[1]):\n",
    "        AssertEquivalentVotes(votes[:, voter], new_votes[:, voter], exclude=[drop_index])\n",
    "    return new_votes\n",
    "\n",
    "print('\\nOriginal:')\n",
    "FindWinnerAndLoser(votes)\n",
    "\n",
    "print('\\nThree stripped:')\n",
    "FindWinnerAndLoser(RemovePolicy(votes, 3))"
   ]
  },
  {
   "cell_type": "code",
   "execution_count": 263,
   "metadata": {},
   "outputs": [
    {
     "name": "stdout",
     "output_type": "stream",
     "text": [
      "19\n",
      "18\n"
     ]
    }
   ],
   "source": [
    "votes\n",
    "print(np.sum(votes == 1))\n",
    "print(np.sum(RemovePolicy(votes, 3) == 1))"
   ]
  },
  {
   "cell_type": "code",
   "execution_count": 264,
   "metadata": {},
   "outputs": [
    {
     "name": "stdout",
     "output_type": "stream",
     "text": [
      "[[2 4 4 4 0 4 3 4 4 4 4 2 4 4 3 2 4 3 2]\n",
      " [3 3 3 3 0 2 4 3 3 2 1 1 3 2 4 1 3 4 3]\n",
      " [1 2 2 2 2 1 2 2 2 3 2 3 2 3 3 3 2 2 1]\n",
      " [4 1 1 1 1 3 1 1 1 1 3 4 1 1 1 4 1 1 4]]\n",
      "[[2 3 3 3 0 4 2 3 3 3 4 2 3 3 2 2 3 2 2]\n",
      " [3 2 2 2 0 2 3 2 2 1 1 1 2 1 3 1 2 3 3]\n",
      " [1 1 1 1 1 1 1 1 1 2 2 3 1 2 2 3 1 1 1]\n",
      " [0 0 0 0 0 0 0 0 0 0 0 0 0 0 0 0 0 0 0]]\n"
     ]
    }
   ],
   "source": [
    "print(votes)\n",
    "\n",
    "print(RemovePolicy(votes, 3))"
   ]
  }
 ],
 "metadata": {
  "kernelspec": {
   "display_name": "Python 3",
   "language": "python",
   "name": "python3"
  },
  "language_info": {
   "codemirror_mode": {
    "name": "ipython",
    "version": 3
   },
   "file_extension": ".py",
   "mimetype": "text/x-python",
   "name": "python",
   "nbconvert_exporter": "python",
   "pygments_lexer": "ipython3",
   "version": "3.8.10"
  }
 },
 "nbformat": 4,
 "nbformat_minor": 4
}
