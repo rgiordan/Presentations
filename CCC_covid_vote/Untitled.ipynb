{
 "cells": [
  {
   "cell_type": "code",
   "execution_count": 245,
   "metadata": {},
   "outputs": [],
   "source": [
    "import pandas as pd\n",
    "import numpy as np\n",
    "\n",
    "import copy\n",
    "import itertools\n",
    "import os\n",
    "import re\n",
    "\n",
    "# Erroneous input (two policies ranked the same) is resolved randomly.\n",
    "# Set the seed to prevent flaky voting.\n",
    "np.random.seed(42)"
   ]
  },
  {
   "cell_type": "code",
   "execution_count": 3,
   "metadata": {},
   "outputs": [],
   "source": [
    "working_dir = '/home/rgiordan/Documents/git_repos/Presentations/CCC_covid_vote'"
   ]
  },
  {
   "cell_type": "code",
   "execution_count": 7,
   "metadata": {},
   "outputs": [],
   "source": [
    "responses = pd.read_csv(os.path.join(working_dir, 'example.csv'))"
   ]
  },
  {
   "cell_type": "code",
   "execution_count": 112,
   "metadata": {},
   "outputs": [],
   "source": [
    "# Select the columns that compile the votes\n",
    "\n",
    "#print(responses.columns)\n",
    "a_col = responses.columns[3]\n",
    "b_col = responses.columns[4]\n",
    "c_col = responses.columns[5]\n",
    "d_col = responses.columns[6]\n",
    "# print('\\n'.join([a_col, b_col, c_col, d_col]))\n",
    "\n",
    "# Assert that I have selected the columns correctly\n",
    "assert(re.search(\"Policy A\", a_col))\n",
    "assert(re.search(\"Policy B\", b_col))\n",
    "assert(re.search(\"Policy C\", c_col))\n",
    "assert(re.search(\"Policy D\", d_col))"
   ]
  },
  {
   "cell_type": "code",
   "execution_count": 275,
   "metadata": {},
   "outputs": [
    {
     "name": "stdout",
     "output_type": "stream",
     "text": [
      "[[2 4 4 4 0 4 3 4 4 4 4 2 4 4 3 2 4 3 2]\n",
      " [3 3 3 3 0 2 4 3 3 2 1 1 3 2 4 1 3 4 3]\n",
      " [1 2 2 2 2 1 2 2 2 3 2 3 2 3 3 3 2 2 1]\n",
      " [4 1 1 1 1 3 1 1 1 1 3 4 1 1 1 4 1 1 4]]\n"
     ]
    }
   ],
   "source": [
    "# Load the CSV and convert the votes to numeric ranks.\n",
    "\n",
    "def ConvertToNumericVote(pd_col):\n",
    "    # Empty rows (not voted on) are storted as nan, not strings.\n",
    "    vote_str = pd_col.fillna('0').to_numpy()\n",
    "    \n",
    "    # Keep only the numbers.\n",
    "    vote_str = np.array([ re.sub(r'[^0-9]', '', v) for v in vote_str ])\n",
    "    \n",
    "    return vote_str.astype('int')\n",
    "\n",
    "original_votes = np.vstack([\n",
    "    ConvertToNumericVote(responses[col]) for col in [ a_col, b_col, c_col, d_col ]\n",
    "])\n",
    "print(original_votes)\n",
    "\n",
    "# Assert that the A vote is the first row as expected.\n",
    "assert(np.all(ConvertToNumericVote(responses[a_col]) == original_votes[0, :]))"
   ]
  },
  {
   "cell_type": "code",
   "execution_count": 260,
   "metadata": {},
   "outputs": [],
   "source": [
    "def AssertEquivalentVotes(old_vote, new_vote, exclude=np.array([])):\n",
    "    # Assert that the strict pairwise ranks of the new_vote matches the old_vote,\n",
    "    # excluding the indices in exclude.\n",
    "    \n",
    "    # Though computatoinally wasteful, I'll use this in place of unit tests when\n",
    "    # modifying the votes for ranked choice and resolving errors.\n",
    "    \n",
    "    assert(len(old_vote) == len(new_vote))\n",
    "\n",
    "    num_policies = len(old_vote)\n",
    "    if (len(exclude) > 0):\n",
    "        assert(np.max(exclude) < num_policies)\n",
    "        assert(np.min(exclude) >= 0)\n",
    "    \n",
    "    policies = np.setdiff1d(np.arange(num_policies), exclude)\n",
    "    \n",
    "    for i, j in itertools.product(policies, policies):\n",
    "        if old_vote[i] < old_vote[j]:\n",
    "            assert(new_vote[i] < new_vote[j])\n"
   ]
  },
  {
   "cell_type": "code",
   "execution_count": 309,
   "metadata": {
    "scrolled": false
   },
   "outputs": [
    {
     "name": "stdout",
     "output_type": "stream",
     "text": [
      "[3 4 3 1]\n",
      "Original vote: [3 4 3 1]\n",
      "Rank 1.  Current vote: [3 4 3 1]\n",
      "Rank 2.  Current vote: [3 4 3 1]\n",
      "Rank 2 missing, decrementing other votes\n",
      "Rank 2.  Current vote: [2 3 2 1]\n",
      "Rank 2 duplicated, randomly splitting indices [0 2]\n",
      "Rank 3.  Current vote: [3 4 2 1]\n",
      "Rank 4.  Current vote: [3 4 2 1]\n"
     ]
    },
    {
     "ename": "NameError",
     "evalue": "name 'verbosePrint' is not defined",
     "output_type": "error",
     "traceback": [
      "\u001b[0;31m---------------------------------------------------------------------------\u001b[0m",
      "\u001b[0;31mNameError\u001b[0m                                 Traceback (most recent call last)",
      "\u001b[0;32m<ipython-input-309-6e9406cbd7c8>\u001b[0m in \u001b[0;36m<module>\u001b[0;34m\u001b[0m\n\u001b[1;32m     45\u001b[0m \u001b[0;34m\u001b[0m\u001b[0m\n\u001b[1;32m     46\u001b[0m \u001b[0mprint\u001b[0m\u001b[0;34m(\u001b[0m\u001b[0moriginal_votes\u001b[0m\u001b[0;34m[\u001b[0m\u001b[0;34m:\u001b[0m\u001b[0;34m,\u001b[0m \u001b[0;36m14\u001b[0m\u001b[0;34m]\u001b[0m\u001b[0;34m)\u001b[0m\u001b[0;34m\u001b[0m\u001b[0;34m\u001b[0m\u001b[0m\n\u001b[0;32m---> 47\u001b[0;31m \u001b[0mprint\u001b[0m\u001b[0;34m(\u001b[0m\u001b[0mRepairVote\u001b[0m\u001b[0;34m(\u001b[0m\u001b[0moriginal_votes\u001b[0m\u001b[0;34m[\u001b[0m\u001b[0;34m:\u001b[0m\u001b[0;34m,\u001b[0m \u001b[0;36m14\u001b[0m\u001b[0;34m]\u001b[0m\u001b[0;34m,\u001b[0m \u001b[0mverbose\u001b[0m\u001b[0;34m=\u001b[0m\u001b[0;32mTrue\u001b[0m\u001b[0;34m)\u001b[0m\u001b[0;34m)\u001b[0m\u001b[0;34m\u001b[0m\u001b[0;34m\u001b[0m\u001b[0m\n\u001b[0m\u001b[1;32m     48\u001b[0m \u001b[0;34m\u001b[0m\u001b[0m\n\u001b[1;32m     49\u001b[0m \u001b[0;31m# vote = copy.copy(original_votes)\u001b[0m\u001b[0;34m\u001b[0m\u001b[0;34m\u001b[0m\u001b[0;34m\u001b[0m\u001b[0m\n",
      "\u001b[0;32m<ipython-input-309-6e9406cbd7c8>\u001b[0m in \u001b[0;36mRepairVote\u001b[0;34m(old_vote, verbose)\u001b[0m\n\u001b[1;32m     40\u001b[0m                 \u001b[0;31m# This rank is okay, go to the next one.\u001b[0m\u001b[0;34m\u001b[0m\u001b[0;34m\u001b[0m\u001b[0;34m\u001b[0m\u001b[0m\n\u001b[1;32m     41\u001b[0m                 \u001b[0mrank\u001b[0m \u001b[0;34m+=\u001b[0m \u001b[0;36m1\u001b[0m\u001b[0;34m\u001b[0m\u001b[0;34m\u001b[0m\u001b[0m\n\u001b[0;32m---> 42\u001b[0;31m     \u001b[0mverbosePrint\u001b[0m\u001b[0;34m(\u001b[0m\u001b[0;34mf'Final vote: {vote}'\u001b[0m\u001b[0;34m)\u001b[0m\u001b[0;34m\u001b[0m\u001b[0;34m\u001b[0m\u001b[0m\n\u001b[0m\u001b[1;32m     43\u001b[0m     \u001b[0mAssertEquivalentVotes\u001b[0m\u001b[0;34m(\u001b[0m\u001b[0mold_vote\u001b[0m\u001b[0;34m,\u001b[0m \u001b[0mvote\u001b[0m\u001b[0;34m)\u001b[0m\u001b[0;34m\u001b[0m\u001b[0;34m\u001b[0m\u001b[0m\n\u001b[1;32m     44\u001b[0m     \u001b[0;32mreturn\u001b[0m \u001b[0mvote\u001b[0m\u001b[0;34m\u001b[0m\u001b[0;34m\u001b[0m\u001b[0m\n",
      "\u001b[0;31mNameError\u001b[0m: name 'verbosePrint' is not defined"
     ]
    }
   ],
   "source": [
    "#vote = votes[:, 0]\n",
    "vote = np.array([0, 2, 2, 4])\n",
    "\n",
    "def RepairVote(old_vote, verbose=False):\n",
    "    # Check for valid input and correct voting errors, following the office hours document.\n",
    "    # Returns a new set of rankings which is in order and has no duplicates.\n",
    "    # For a description of what's going on, set verbose=True.\n",
    "    \n",
    "    def VerbosePrint(s):\n",
    "        if verbose:\n",
    "            print(s)\n",
    "\n",
    "    vote = copy.copy(old_vote)\n",
    "    VerbosePrint(f'Original vote: {old_vote}')\n",
    "    num_votes = sum(vote > 0)\n",
    "    rank = 1\n",
    "    while rank <= num_votes:\n",
    "        VerbosePrint(f'Rank {rank}.  Current vote: {vote}')\n",
    "        if not np.any(vote == rank):\n",
    "            # There is no policy with this rank; decrement the other votes and try again.\n",
    "            VerbosePrint(f'Rank {rank} missing, decrementing other votes')\n",
    "            dec_inds = np.logical_and(vote > rank, vote > 0) \n",
    "            vote[dec_inds] = vote[dec_inds] - 1\n",
    "        else:\n",
    "            rank_inds = np.argwhere(vote == rank).flatten()\n",
    "            if len(rank_inds) > 1:\n",
    "                # This rank was duplicated.  Randomly split up this rank among the\n",
    "                # policies.\n",
    "                VerbosePrint(f'Rank {rank} duplicated, randomly splitting indices {rank_inds}')\n",
    "\n",
    "                num_dups = len(rank_inds)\n",
    "                new_ranks = np.random.choice(num_dups, num_dups, replace=False) + rank\n",
    "\n",
    "                # Increment other votes to make room for num_dups - 1 extra votes\n",
    "                dec_inds = np.logical_and(vote > rank, vote > 0) \n",
    "                vote[dec_inds] = vote[dec_inds] + num_dups - 1\n",
    "                vote[rank_inds] = new_ranks\n",
    "                rank += num_dups - 1\n",
    "            else:\n",
    "                # This rank is okay, go to the next one.\n",
    "                rank += 1\n",
    "\n",
    "    VerbosePrint(f'Final vote: {vote}')\n",
    "    AssertEquivalentVotes(old_vote, vote)\n",
    "    return vote\n",
    "\n",
    "print(original_votes[:, 14])\n",
    "print(RepairVote(original_votes[:, 14], verbose=True))\n",
    "\n",
    "# vote = copy.copy(original_votes)\n",
    "# for voter in range(vote.shape[1]):\n",
    "#     print(voter)\n",
    "#     vote[:, voter] = RepairVote(vote[:, voter])"
   ]
  },
  {
   "cell_type": "code",
   "execution_count": 285,
   "metadata": {},
   "outputs": [
    {
     "name": "stdout",
     "output_type": "stream",
     "text": [
      "[3 4 3 1]\n"
     ]
    }
   ],
   "source": [
    "\n"
   ]
  },
  {
   "cell_type": "code",
   "execution_count": null,
   "metadata": {},
   "outputs": [],
   "source": [
    "print(vote)\n",
    "print(original_votes)"
   ]
  },
  {
   "cell_type": "code",
   "execution_count": 273,
   "metadata": {},
   "outputs": [
    {
     "name": "stdout",
     "output_type": "stream",
     "text": [
      "\n",
      "Original:\n",
      "The winner was [3]\n",
      "\n",
      "Three stripped:\n",
      "This many voters did not vote this round: 1\n",
      "There was a tie among losers: [0 3]\n",
      "The winner was [2]\n"
     ]
    },
    {
     "data": {
      "text/plain": [
       "(array([2]), array([0, 3]))"
      ]
     },
     "execution_count": 273,
     "metadata": {},
     "output_type": "execute_result"
    }
   ],
   "source": [
    "def FindWinnerAndLoser(votes):\n",
    "    # Identify a winner (if there is one) and the loser among the votes array.\n",
    "    # Return (winner, loser), where both may be arrays in the case of a tie.\n",
    "\n",
    "    num_voters = votes.shape[1]\n",
    "    num_votes = np.sum(votes == 1)\n",
    "    assert(num_votes <= num_voters)\n",
    "    if num_votes != num_voters:\n",
    "        print(f'This many voters did not vote this round: {num_voters - num_votes}')\n",
    "    vote_count = np.sum(votes == 1, axis=1)\n",
    "\n",
    "    loser = np.argwhere(vote_count == np.min(vote_count)).flatten()\n",
    "    if len(loser) > 1:\n",
    "        print(f'There was a tie among losers: {loser}')\n",
    "    majority = vote_count / num_votes >= 0.5\n",
    "    if np.any(majority):\n",
    "        winner = np.argwhere(majority).flatten()\n",
    "        if (len(winner) > 1):\n",
    "            print(f'There was a tie among winners: {winner}.')\n",
    "        else:\n",
    "            print(f'The winner was {winner}')\n",
    "        return (winner, loser)\n",
    "    else:\n",
    "        print('There was no majority')\n",
    "        return (-1, loser)\n",
    "    \n",
    "\n",
    "def RemovePolicy(votes, drop_index):\n",
    "    new_votes = copy.copy(votes)\n",
    "    drop_index = 3\n",
    "    increment_cols = np.argwhere(new_votes[drop_index, :] == 1).flatten()\n",
    "    new_votes[:, increment_cols] = votes[:, increment_cols] - 1\n",
    "    new_votes[new_votes < 0] = 0\n",
    "    new_votes[drop_index, :] = 0\n",
    "    \n",
    "    for voter in range(votes.shape[1]):\n",
    "        AssertEquivalentVotes(votes[:, voter], new_votes[:, voter], exclude=[drop_index])\n",
    "    return new_votes\n",
    "\n",
    "print('\\nOriginal:')\n",
    "FindWinnerAndLoser(votes)\n",
    "\n",
    "print('\\nThree stripped:')\n",
    "FindWinnerAndLoser(RemovePolicy(votes, 3))"
   ]
  },
  {
   "cell_type": "code",
   "execution_count": 263,
   "metadata": {},
   "outputs": [
    {
     "name": "stdout",
     "output_type": "stream",
     "text": [
      "19\n",
      "18\n"
     ]
    }
   ],
   "source": [
    "votes\n",
    "print(np.sum(votes == 1))\n",
    "print(np.sum(RemovePolicy(votes, 3) == 1))"
   ]
  },
  {
   "cell_type": "code",
   "execution_count": 264,
   "metadata": {},
   "outputs": [
    {
     "name": "stdout",
     "output_type": "stream",
     "text": [
      "[[2 4 4 4 0 4 3 4 4 4 4 2 4 4 3 2 4 3 2]\n",
      " [3 3 3 3 0 2 4 3 3 2 1 1 3 2 4 1 3 4 3]\n",
      " [1 2 2 2 2 1 2 2 2 3 2 3 2 3 3 3 2 2 1]\n",
      " [4 1 1 1 1 3 1 1 1 1 3 4 1 1 1 4 1 1 4]]\n",
      "[[2 3 3 3 0 4 2 3 3 3 4 2 3 3 2 2 3 2 2]\n",
      " [3 2 2 2 0 2 3 2 2 1 1 1 2 1 3 1 2 3 3]\n",
      " [1 1 1 1 1 1 1 1 1 2 2 3 1 2 2 3 1 1 1]\n",
      " [0 0 0 0 0 0 0 0 0 0 0 0 0 0 0 0 0 0 0]]\n"
     ]
    }
   ],
   "source": [
    "print(votes)\n",
    "\n",
    "print(RemovePolicy(votes, 3))"
   ]
  }
 ],
 "metadata": {
  "kernelspec": {
   "display_name": "Python 3",
   "language": "python",
   "name": "python3"
  },
  "language_info": {
   "codemirror_mode": {
    "name": "ipython",
    "version": 3
   },
   "file_extension": ".py",
   "mimetype": "text/x-python",
   "name": "python",
   "nbconvert_exporter": "python",
   "pygments_lexer": "ipython3",
   "version": "3.8.10"
  }
 },
 "nbformat": 4,
 "nbformat_minor": 4
}
