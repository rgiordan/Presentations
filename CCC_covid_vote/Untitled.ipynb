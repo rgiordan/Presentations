{
 "cells": [
  {
   "cell_type": "code",
   "execution_count": 19,
   "metadata": {},
   "outputs": [],
   "source": [
    "import pandas as pd\n",
    "import numpy as np\n",
    "\n",
    "import os\n",
    "import re"
   ]
  },
  {
   "cell_type": "code",
   "execution_count": 3,
   "metadata": {},
   "outputs": [],
   "source": [
    "working_dir = '/home/rgiordan/Documents/git_repos/Presentations/CCC_covid_vote'"
   ]
  },
  {
   "cell_type": "code",
   "execution_count": 7,
   "metadata": {},
   "outputs": [],
   "source": [
    "responses = pd.read_csv(os.path.join(working_dir, 'example.csv'))"
   ]
  },
  {
   "cell_type": "code",
   "execution_count": 112,
   "metadata": {},
   "outputs": [],
   "source": [
    "# Select the columns that compile the votes\n",
    "\n",
    "#print(responses.columns)\n",
    "a_col = responses.columns[3]\n",
    "b_col = responses.columns[4]\n",
    "c_col = responses.columns[5]\n",
    "d_col = responses.columns[6]\n",
    "# print('\\n'.join([a_col, b_col, c_col, d_col]))\n",
    "\n",
    "# Assert that I have selected the columns correctly\n",
    "assert(re.search(\"Policy A\", a_col))\n",
    "assert(re.search(\"Policy B\", b_col))\n",
    "assert(re.search(\"Policy C\", c_col))\n",
    "assert(re.search(\"Policy D\", d_col))"
   ]
  },
  {
   "cell_type": "code",
   "execution_count": 129,
   "metadata": {},
   "outputs": [
    {
     "name": "stdout",
     "output_type": "stream",
     "text": [
      "[[2 4 4 4 0 4 3 4 4 4 4 2 4 4 3 2 4 3 2]\n",
      " [3 3 3 3 0 2 4 3 3 2 1 1 3 2 4 1 3 4 3]\n",
      " [1 2 2 2 2 1 2 2 2 3 2 3 2 3 3 3 2 2 1]\n",
      " [4 1 1 1 1 3 1 1 1 1 3 4 1 1 1 4 1 1 4]]\n"
     ]
    }
   ],
   "source": [
    "def ConvertToNumericVote(pd_col):\n",
    "    # Empty rows (not voted on) are storted as nan, not strings.\n",
    "    vote_str = pd_col.fillna('0').to_numpy()\n",
    "    \n",
    "    # Keep only the numbers.\n",
    "    vote_str = np.array([ re.sub(r'[^0-9]', '', v) for v in vote_str ])\n",
    "    \n",
    "    return vote_str.astype('int')\n",
    "\n",
    "votes = np.vstack([\n",
    "    ConvertToNumericVote(responses[col]) for col in [ a_col, b_col, c_col, d_col ]\n",
    "])\n",
    "print(votes)\n",
    "\n",
    "# Assert that the A vote is the first row as expected.\n",
    "assert(np.all(ConvertToNumericVote(responses[a_col]) == votes[0, :]))"
   ]
  },
  {
   "cell_type": "code",
   "execution_count": 152,
   "metadata": {},
   "outputs": [
    {
     "data": {
      "text/plain": [
       "3"
      ]
     },
     "execution_count": 152,
     "metadata": {},
     "output_type": "execute_result"
    }
   ],
   "source": [
    "def FindWinner(votes):\n",
    "    num_voters = votes.shape[1]\n",
    "    num_votes = np.sum(votes == 1)\n",
    "    assert(num_votes <= num_voters)\n",
    "    if num_votes != num_voters:\n",
    "        print('Some did not vote. ', num_votes, num_voters)\n",
    "    vote_count = np.sum(votes == 1, axis=1)\n",
    "    majority = vote_count / num_votes > 0.5\n",
    "    if np.any(majority):\n",
    "        return np.argwhere(majority)[0][0]\n",
    "    else:\n",
    "        print('No majority')\n",
    "        return -1\n",
    "    \n",
    "FindWinner(votes)"
   ]
  }
 ],
 "metadata": {
  "kernelspec": {
   "display_name": "Python 3",
   "language": "python",
   "name": "python3"
  },
  "language_info": {
   "codemirror_mode": {
    "name": "ipython",
    "version": 3
   },
   "file_extension": ".py",
   "mimetype": "text/x-python",
   "name": "python",
   "nbconvert_exporter": "python",
   "pygments_lexer": "ipython3",
   "version": "3.8.10"
  }
 },
 "nbformat": 4,
 "nbformat_minor": 4
}
